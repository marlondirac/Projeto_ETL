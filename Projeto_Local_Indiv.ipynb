{
  "nbformat": 4,
  "nbformat_minor": 0,
  "metadata": {
    "colab": {
      "name": "Projeto_Local_Indiv.ipynb",
      "provenance": [],
      "collapsed_sections": []
    },
    "kernelspec": {
      "name": "python3",
      "display_name": "Python 3"
    },
    "language_info": {
      "name": "python"
    }
  },
  "cells": [
    {
      "cell_type": "code",
      "source": [
        "!pip install pyspark"
      ],
      "metadata": {
        "id": "CyyAwsg25iIc",
        "colab": {
          "base_uri": "https://localhost:8080/"
        },
        "outputId": "502162d3-ed9c-4a83-d5a5-0af1f118b212"
      },
      "execution_count": 9,
      "outputs": [
        {
          "output_type": "stream",
          "name": "stdout",
          "text": [
            "Collecting pyspark\n",
            "  Downloading pyspark-3.2.1.tar.gz (281.4 MB)\n",
            "\u001b[K     |████████████████████████████████| 281.4 MB 34 kB/s \n",
            "\u001b[?25hCollecting py4j==0.10.9.3\n",
            "  Downloading py4j-0.10.9.3-py2.py3-none-any.whl (198 kB)\n",
            "\u001b[K     |████████████████████████████████| 198 kB 46.5 MB/s \n",
            "\u001b[?25hBuilding wheels for collected packages: pyspark\n",
            "  Building wheel for pyspark (setup.py) ... \u001b[?25l\u001b[?25hdone\n",
            "  Created wheel for pyspark: filename=pyspark-3.2.1-py2.py3-none-any.whl size=281853642 sha256=53b51242fc3171fcfe755e6d4f5f514dbe09359b2ff5b60c93fec4a08044ca45\n",
            "  Stored in directory: /root/.cache/pip/wheels/9f/f5/07/7cd8017084dce4e93e84e92efd1e1d5334db05f2e83bcef74f\n",
            "Successfully built pyspark\n",
            "Installing collected packages: py4j, pyspark\n",
            "Successfully installed py4j-0.10.9.3 pyspark-3.2.1\n"
          ]
        }
      ]
    },
    {
      "cell_type": "code",
      "source": [
        "import pandas as pd"
      ],
      "metadata": {
        "id": "_aAH0gYmLhL4"
      },
      "execution_count": 3,
      "outputs": []
    },
    {
      "cell_type": "code",
      "source": [
        "path = 'marketing.csv'"
      ],
      "metadata": {
        "id": "DhfHJN8KGqLk"
      },
      "execution_count": 6,
      "outputs": []
    },
    {
      "cell_type": "code",
      "source": [
        "#O DATAFRAME TRATADO EM PANDAS SERA CHAMADO DE dfp\n",
        "dfp = pd.read_csv(path)"
      ],
      "metadata": {
        "id": "0xnLmSGYHD2e"
      },
      "execution_count": 7,
      "outputs": []
    },
    {
      "cell_type": "code",
      "source": [
        "#CRIACAO DE BACKUP\n",
        "bkp = dfp.copy()"
      ],
      "metadata": {
        "id": "yzMrlk_eWTHU"
      },
      "execution_count": null,
      "outputs": []
    },
    {
      "cell_type": "code",
      "source": [
        "pd.set_option('max_columns', None)"
      ],
      "metadata": {
        "id": "rlU3ohrXbWni"
      },
      "execution_count": null,
      "outputs": []
    },
    {
      "cell_type": "code",
      "source": [
        "#RENOMEANDO AS COLUNAS E TRADUZINDO PARA PT-BR\n",
        "dfp.rename(columns={'Year_Birth':'Ano_nascimento','Education':'Educacao','Marital_Status':'Estado_Civil','Income':'Renda','Kidhome':'Crianca_em_Casa','Teenhome':'Adolesc_em_Casa','Dt_Customer':'Dt_Inscricao_Cliente','Recency':'Recente','MntWines':'Gasto_Vinho','MntFishProducts':'Gasto_Peixe','MntMeatProducts':'Gasto_Carne','MntSweetProducts':'Gasto_Doce','MntFruits':'Gasto_Fruta'},inplace=True)"
      ],
      "metadata": {
        "id": "xm4l6WNyHtqE"
      },
      "execution_count": null,
      "outputs": []
    },
    {
      "cell_type": "code",
      "source": [
        "dfp.columns"
      ],
      "metadata": {
        "colab": {
          "base_uri": "https://localhost:8080/"
        },
        "id": "M3OGGzkzWf3A",
        "outputId": "d72ac0bd-8528-47ef-9cf0-f25c3ab5c5b9"
      },
      "execution_count": null,
      "outputs": [
        {
          "output_type": "execute_result",
          "data": {
            "text/plain": [
              "Index(['ID', 'Ano_nascimento', 'Educacao', 'Estado_Civil', 'Renda',\n",
              "       'Crianca_em_Casa', 'Adolesc_em_Casa', 'Dt_Inscricao_Cliente', 'Recente',\n",
              "       'Gasto_Vinho', 'Gasto_Fruta', 'Gasto_Carne', 'Gasto_Peixe',\n",
              "       'Gasto_Doce', 'MntGoldProds', 'NumDealsPurchases', 'NumWebPurchases',\n",
              "       'NumCatalogPurchases', 'NumStorePurchases', 'NumWebVisitsMonth',\n",
              "       'AcceptedCmp3', 'AcceptedCmp4', 'AcceptedCmp5', 'AcceptedCmp1',\n",
              "       'AcceptedCmp2', 'Complain', 'Z_CostContact', 'Z_Revenue', 'Response'],\n",
              "      dtype='object')"
            ]
          },
          "metadata": {},
          "execution_count": 29
        }
      ]
    },
    {
      "cell_type": "code",
      "source": [
        "dfp.rename(columns={'MntGoldProds':'Gasto_Ouro','NumDealsPurchases':'Compras_Desconto','NumWebPurchases':'Compras_Site','NumCatalogPurchases':'Compras_Catalogo','NumStorePurchases':'Compras_Loja','NumWebVisitsMonth':'Visitas_Site','Complain':'Reclamacoes'},inplace=True)"
      ],
      "metadata": {
        "id": "uOaOHx73Wn_N"
      },
      "execution_count": null,
      "outputs": []
    },
    {
      "cell_type": "code",
      "source": [
        "dfp.head()"
      ],
      "metadata": {
        "colab": {
          "base_uri": "https://localhost:8080/",
          "height": 270
        },
        "id": "YrzzZP56b89K",
        "outputId": "97650fc8-2370-4758-ac4d-873449e37729"
      },
      "execution_count": null,
      "outputs": [
        {
          "output_type": "execute_result",
          "data": {
            "text/plain": [
              "     ID  Ano_nascimento    Educacao Estado_Civil    Renda  Crianca_em_Casa  \\\n",
              "0  5524            1957  Graduation       Single  58138.0                0   \n",
              "1  2174            1954  Graduation       Single  46344.0                1   \n",
              "2  4141            1965  Graduation     Together  71613.0                0   \n",
              "3  6182            1984  Graduation     Together  26646.0                1   \n",
              "4  5324            1981         PhD      Married  58293.0                1   \n",
              "\n",
              "   Adolesc_em_Casa Dt_Inscricao_Cliente  Recente  Gasto_Vinho  Gasto_Fruta  \\\n",
              "0                0           04-09-2012       58          635           88   \n",
              "1                1           08-03-2014       38           11            1   \n",
              "2                0           21-08-2013       26          426           49   \n",
              "3                0           10-02-2014       26           11            4   \n",
              "4                0           19-01-2014       94          173           43   \n",
              "\n",
              "   Gasto_Carne  Gasto_Peixe  Gasto_Doce  Gasto_Ouro  Compras_Desconto  \\\n",
              "0          546          172          88          88                 3   \n",
              "1            6            2           1           6                 2   \n",
              "2          127          111          21          42                 1   \n",
              "3           20           10           3           5                 2   \n",
              "4          118           46          27          15                 5   \n",
              "\n",
              "   Compras_Site  Compras_Catalogo  Compras_Loja  Visitas_Site  AcceptedCmp3  \\\n",
              "0             8                10             4             7             0   \n",
              "1             1                 1             2             5             0   \n",
              "2             8                 2            10             4             0   \n",
              "3             2                 0             4             6             0   \n",
              "4             5                 3             6             5             0   \n",
              "\n",
              "   AcceptedCmp4  AcceptedCmp5  AcceptedCmp1  AcceptedCmp2  Reclamacoes  \\\n",
              "0             0             0             0             0            0   \n",
              "1             0             0             0             0            0   \n",
              "2             0             0             0             0            0   \n",
              "3             0             0             0             0            0   \n",
              "4             0             0             0             0            0   \n",
              "\n",
              "   Z_CostContact  Z_Revenue  Response  \n",
              "0              3         11         1  \n",
              "1              3         11         0  \n",
              "2              3         11         0  \n",
              "3              3         11         0  \n",
              "4              3         11         0  "
            ],
            "text/html": [
              "\n",
              "  <div id=\"df-86271267-6d53-406f-95b6-d5026156e458\">\n",
              "    <div class=\"colab-df-container\">\n",
              "      <div>\n",
              "<style scoped>\n",
              "    .dataframe tbody tr th:only-of-type {\n",
              "        vertical-align: middle;\n",
              "    }\n",
              "\n",
              "    .dataframe tbody tr th {\n",
              "        vertical-align: top;\n",
              "    }\n",
              "\n",
              "    .dataframe thead th {\n",
              "        text-align: right;\n",
              "    }\n",
              "</style>\n",
              "<table border=\"1\" class=\"dataframe\">\n",
              "  <thead>\n",
              "    <tr style=\"text-align: right;\">\n",
              "      <th></th>\n",
              "      <th>ID</th>\n",
              "      <th>Ano_nascimento</th>\n",
              "      <th>Educacao</th>\n",
              "      <th>Estado_Civil</th>\n",
              "      <th>Renda</th>\n",
              "      <th>Crianca_em_Casa</th>\n",
              "      <th>Adolesc_em_Casa</th>\n",
              "      <th>Dt_Inscricao_Cliente</th>\n",
              "      <th>Recente</th>\n",
              "      <th>Gasto_Vinho</th>\n",
              "      <th>Gasto_Fruta</th>\n",
              "      <th>Gasto_Carne</th>\n",
              "      <th>Gasto_Peixe</th>\n",
              "      <th>Gasto_Doce</th>\n",
              "      <th>Gasto_Ouro</th>\n",
              "      <th>Compras_Desconto</th>\n",
              "      <th>Compras_Site</th>\n",
              "      <th>Compras_Catalogo</th>\n",
              "      <th>Compras_Loja</th>\n",
              "      <th>Visitas_Site</th>\n",
              "      <th>AcceptedCmp3</th>\n",
              "      <th>AcceptedCmp4</th>\n",
              "      <th>AcceptedCmp5</th>\n",
              "      <th>AcceptedCmp1</th>\n",
              "      <th>AcceptedCmp2</th>\n",
              "      <th>Reclamacoes</th>\n",
              "      <th>Z_CostContact</th>\n",
              "      <th>Z_Revenue</th>\n",
              "      <th>Response</th>\n",
              "    </tr>\n",
              "  </thead>\n",
              "  <tbody>\n",
              "    <tr>\n",
              "      <th>0</th>\n",
              "      <td>5524</td>\n",
              "      <td>1957</td>\n",
              "      <td>Graduation</td>\n",
              "      <td>Single</td>\n",
              "      <td>58138.0</td>\n",
              "      <td>0</td>\n",
              "      <td>0</td>\n",
              "      <td>04-09-2012</td>\n",
              "      <td>58</td>\n",
              "      <td>635</td>\n",
              "      <td>88</td>\n",
              "      <td>546</td>\n",
              "      <td>172</td>\n",
              "      <td>88</td>\n",
              "      <td>88</td>\n",
              "      <td>3</td>\n",
              "      <td>8</td>\n",
              "      <td>10</td>\n",
              "      <td>4</td>\n",
              "      <td>7</td>\n",
              "      <td>0</td>\n",
              "      <td>0</td>\n",
              "      <td>0</td>\n",
              "      <td>0</td>\n",
              "      <td>0</td>\n",
              "      <td>0</td>\n",
              "      <td>3</td>\n",
              "      <td>11</td>\n",
              "      <td>1</td>\n",
              "    </tr>\n",
              "    <tr>\n",
              "      <th>1</th>\n",
              "      <td>2174</td>\n",
              "      <td>1954</td>\n",
              "      <td>Graduation</td>\n",
              "      <td>Single</td>\n",
              "      <td>46344.0</td>\n",
              "      <td>1</td>\n",
              "      <td>1</td>\n",
              "      <td>08-03-2014</td>\n",
              "      <td>38</td>\n",
              "      <td>11</td>\n",
              "      <td>1</td>\n",
              "      <td>6</td>\n",
              "      <td>2</td>\n",
              "      <td>1</td>\n",
              "      <td>6</td>\n",
              "      <td>2</td>\n",
              "      <td>1</td>\n",
              "      <td>1</td>\n",
              "      <td>2</td>\n",
              "      <td>5</td>\n",
              "      <td>0</td>\n",
              "      <td>0</td>\n",
              "      <td>0</td>\n",
              "      <td>0</td>\n",
              "      <td>0</td>\n",
              "      <td>0</td>\n",
              "      <td>3</td>\n",
              "      <td>11</td>\n",
              "      <td>0</td>\n",
              "    </tr>\n",
              "    <tr>\n",
              "      <th>2</th>\n",
              "      <td>4141</td>\n",
              "      <td>1965</td>\n",
              "      <td>Graduation</td>\n",
              "      <td>Together</td>\n",
              "      <td>71613.0</td>\n",
              "      <td>0</td>\n",
              "      <td>0</td>\n",
              "      <td>21-08-2013</td>\n",
              "      <td>26</td>\n",
              "      <td>426</td>\n",
              "      <td>49</td>\n",
              "      <td>127</td>\n",
              "      <td>111</td>\n",
              "      <td>21</td>\n",
              "      <td>42</td>\n",
              "      <td>1</td>\n",
              "      <td>8</td>\n",
              "      <td>2</td>\n",
              "      <td>10</td>\n",
              "      <td>4</td>\n",
              "      <td>0</td>\n",
              "      <td>0</td>\n",
              "      <td>0</td>\n",
              "      <td>0</td>\n",
              "      <td>0</td>\n",
              "      <td>0</td>\n",
              "      <td>3</td>\n",
              "      <td>11</td>\n",
              "      <td>0</td>\n",
              "    </tr>\n",
              "    <tr>\n",
              "      <th>3</th>\n",
              "      <td>6182</td>\n",
              "      <td>1984</td>\n",
              "      <td>Graduation</td>\n",
              "      <td>Together</td>\n",
              "      <td>26646.0</td>\n",
              "      <td>1</td>\n",
              "      <td>0</td>\n",
              "      <td>10-02-2014</td>\n",
              "      <td>26</td>\n",
              "      <td>11</td>\n",
              "      <td>4</td>\n",
              "      <td>20</td>\n",
              "      <td>10</td>\n",
              "      <td>3</td>\n",
              "      <td>5</td>\n",
              "      <td>2</td>\n",
              "      <td>2</td>\n",
              "      <td>0</td>\n",
              "      <td>4</td>\n",
              "      <td>6</td>\n",
              "      <td>0</td>\n",
              "      <td>0</td>\n",
              "      <td>0</td>\n",
              "      <td>0</td>\n",
              "      <td>0</td>\n",
              "      <td>0</td>\n",
              "      <td>3</td>\n",
              "      <td>11</td>\n",
              "      <td>0</td>\n",
              "    </tr>\n",
              "    <tr>\n",
              "      <th>4</th>\n",
              "      <td>5324</td>\n",
              "      <td>1981</td>\n",
              "      <td>PhD</td>\n",
              "      <td>Married</td>\n",
              "      <td>58293.0</td>\n",
              "      <td>1</td>\n",
              "      <td>0</td>\n",
              "      <td>19-01-2014</td>\n",
              "      <td>94</td>\n",
              "      <td>173</td>\n",
              "      <td>43</td>\n",
              "      <td>118</td>\n",
              "      <td>46</td>\n",
              "      <td>27</td>\n",
              "      <td>15</td>\n",
              "      <td>5</td>\n",
              "      <td>5</td>\n",
              "      <td>3</td>\n",
              "      <td>6</td>\n",
              "      <td>5</td>\n",
              "      <td>0</td>\n",
              "      <td>0</td>\n",
              "      <td>0</td>\n",
              "      <td>0</td>\n",
              "      <td>0</td>\n",
              "      <td>0</td>\n",
              "      <td>3</td>\n",
              "      <td>11</td>\n",
              "      <td>0</td>\n",
              "    </tr>\n",
              "  </tbody>\n",
              "</table>\n",
              "</div>\n",
              "      <button class=\"colab-df-convert\" onclick=\"convertToInteractive('df-86271267-6d53-406f-95b6-d5026156e458')\"\n",
              "              title=\"Convert this dataframe to an interactive table.\"\n",
              "              style=\"display:none;\">\n",
              "        \n",
              "  <svg xmlns=\"http://www.w3.org/2000/svg\" height=\"24px\"viewBox=\"0 0 24 24\"\n",
              "       width=\"24px\">\n",
              "    <path d=\"M0 0h24v24H0V0z\" fill=\"none\"/>\n",
              "    <path d=\"M18.56 5.44l.94 2.06.94-2.06 2.06-.94-2.06-.94-.94-2.06-.94 2.06-2.06.94zm-11 1L8.5 8.5l.94-2.06 2.06-.94-2.06-.94L8.5 2.5l-.94 2.06-2.06.94zm10 10l.94 2.06.94-2.06 2.06-.94-2.06-.94-.94-2.06-.94 2.06-2.06.94z\"/><path d=\"M17.41 7.96l-1.37-1.37c-.4-.4-.92-.59-1.43-.59-.52 0-1.04.2-1.43.59L10.3 9.45l-7.72 7.72c-.78.78-.78 2.05 0 2.83L4 21.41c.39.39.9.59 1.41.59.51 0 1.02-.2 1.41-.59l7.78-7.78 2.81-2.81c.8-.78.8-2.07 0-2.86zM5.41 20L4 18.59l7.72-7.72 1.47 1.35L5.41 20z\"/>\n",
              "  </svg>\n",
              "      </button>\n",
              "      \n",
              "  <style>\n",
              "    .colab-df-container {\n",
              "      display:flex;\n",
              "      flex-wrap:wrap;\n",
              "      gap: 12px;\n",
              "    }\n",
              "\n",
              "    .colab-df-convert {\n",
              "      background-color: #E8F0FE;\n",
              "      border: none;\n",
              "      border-radius: 50%;\n",
              "      cursor: pointer;\n",
              "      display: none;\n",
              "      fill: #1967D2;\n",
              "      height: 32px;\n",
              "      padding: 0 0 0 0;\n",
              "      width: 32px;\n",
              "    }\n",
              "\n",
              "    .colab-df-convert:hover {\n",
              "      background-color: #E2EBFA;\n",
              "      box-shadow: 0px 1px 2px rgba(60, 64, 67, 0.3), 0px 1px 3px 1px rgba(60, 64, 67, 0.15);\n",
              "      fill: #174EA6;\n",
              "    }\n",
              "\n",
              "    [theme=dark] .colab-df-convert {\n",
              "      background-color: #3B4455;\n",
              "      fill: #D2E3FC;\n",
              "    }\n",
              "\n",
              "    [theme=dark] .colab-df-convert:hover {\n",
              "      background-color: #434B5C;\n",
              "      box-shadow: 0px 1px 3px 1px rgba(0, 0, 0, 0.15);\n",
              "      filter: drop-shadow(0px 1px 2px rgba(0, 0, 0, 0.3));\n",
              "      fill: #FFFFFF;\n",
              "    }\n",
              "  </style>\n",
              "\n",
              "      <script>\n",
              "        const buttonEl =\n",
              "          document.querySelector('#df-86271267-6d53-406f-95b6-d5026156e458 button.colab-df-convert');\n",
              "        buttonEl.style.display =\n",
              "          google.colab.kernel.accessAllowed ? 'block' : 'none';\n",
              "\n",
              "        async function convertToInteractive(key) {\n",
              "          const element = document.querySelector('#df-86271267-6d53-406f-95b6-d5026156e458');\n",
              "          const dataTable =\n",
              "            await google.colab.kernel.invokeFunction('convertToInteractive',\n",
              "                                                     [key], {});\n",
              "          if (!dataTable) return;\n",
              "\n",
              "          const docLinkHtml = 'Like what you see? Visit the ' +\n",
              "            '<a target=\"_blank\" href=https://colab.research.google.com/notebooks/data_table.ipynb>data table notebook</a>'\n",
              "            + ' to learn more about interactive tables.';\n",
              "          element.innerHTML = '';\n",
              "          dataTable['output_type'] = 'display_data';\n",
              "          await google.colab.output.renderOutput(dataTable, element);\n",
              "          const docLink = document.createElement('div');\n",
              "          docLink.innerHTML = docLinkHtml;\n",
              "          element.appendChild(docLink);\n",
              "        }\n",
              "      </script>\n",
              "    </div>\n",
              "  </div>\n",
              "  "
            ]
          },
          "metadata": {},
          "execution_count": 31
        }
      ]
    },
    {
      "cell_type": "code",
      "source": [
        "#PARA TRATAMENTO, AS COLUNAS Z_CostContact e Z_Revenue SERAO DROPADAS DA TABELA, JÁ QUE SEUS VALORES SAO REPETIDOS O DATAFRAME INTEIRO CONFORME OS COMANDOS ABAIXO:\n",
        "pd.unique(dfp['Z_Revenue'])\n"
      ],
      "metadata": {
        "colab": {
          "base_uri": "https://localhost:8080/"
        },
        "id": "pStYpmSUcK32",
        "outputId": "6283a2ee-90f1-4656-e7ea-2f96acf4a554"
      },
      "execution_count": null,
      "outputs": [
        {
          "output_type": "execute_result",
          "data": {
            "text/plain": [
              "array([11])"
            ]
          },
          "metadata": {},
          "execution_count": 32
        }
      ]
    },
    {
      "cell_type": "code",
      "source": [
        "pd.unique(dfp['Z_CostContact'])"
      ],
      "metadata": {
        "colab": {
          "base_uri": "https://localhost:8080/"
        },
        "id": "Wbt1cqxDdII5",
        "outputId": "00be45e8-482f-40de-9e52-a06a432f0e8b"
      },
      "execution_count": null,
      "outputs": [
        {
          "output_type": "execute_result",
          "data": {
            "text/plain": [
              "array([3])"
            ]
          },
          "metadata": {},
          "execution_count": 33
        }
      ]
    },
    {
      "cell_type": "code",
      "source": [
        "dfp.drop(['Z_CostContact','Z_Revenue'],axis=1,inplace=True)"
      ],
      "metadata": {
        "id": "VYpbBvcFdf3D"
      },
      "execution_count": null,
      "outputs": []
    },
    {
      "cell_type": "code",
      "source": [
        "'''ALEM DESTAS COLUNAS, AS COMPRAS EFETUADAS EM PERIODOS ESPECIFICOS COM BASE EM PROMOCOES TAMBEM SERAO DESCARTADAS, JA QUE TEMOS UMA COLUNA COM AS COMPRAS TOTAIS EFETUADAS EM PROMOCAO\n",
        "AS COLUNAS A SEREM EXCLUIDAS SAO: AcceptedCmp3\tAcceptedCmp4\tAcceptedCmp5\tAcceptedCmp1\tAcceptedCmp2 Response JA QUE TEMOS A COLUNA \"Compras_Desconto\".'''\n",
        "dfp.drop(['AcceptedCmp3',\t'AcceptedCmp4',\t'AcceptedCmp5',\t'AcceptedCmp1',\t'AcceptedCmp2','Response'],axis=True,inplace=True)"
      ],
      "metadata": {
        "id": "ILJgmu4Ld32x"
      },
      "execution_count": null,
      "outputs": []
    },
    {
      "cell_type": "code",
      "source": [
        "dfp.columns"
      ],
      "metadata": {
        "colab": {
          "base_uri": "https://localhost:8080/"
        },
        "id": "b2qMz4DWAFCe",
        "outputId": "999b8f0c-6b7f-4219-f83b-f825445e634d"
      },
      "execution_count": null,
      "outputs": [
        {
          "output_type": "execute_result",
          "data": {
            "text/plain": [
              "Index(['ID', 'Ano_nascimento', 'Educacao', 'Estado_Civil', 'Renda',\n",
              "       'Crianca_em_Casa', 'Adolesc_em_Casa', 'Dt_Inscricao_Cliente', 'Recente',\n",
              "       'Gasto_Vinho', 'Gasto_Fruta', 'Gasto_Carne', 'Gasto_Peixe',\n",
              "       'Gasto_Doce', 'Gasto_Ouro', 'Compras_Desconto', 'Compras_Site',\n",
              "       'Compras_Catalogo', 'Compras_Loja', 'Visitas_Site', 'Reclamacoes'],\n",
              "      dtype='object')"
            ]
          },
          "metadata": {},
          "execution_count": 36
        }
      ]
    },
    {
      "cell_type": "code",
      "source": [
        "#BLOCO ONDE TESTEI A INCONSISTÊNCIA DOS DADOS COM O UNIQUE\n",
        "sorted(pd.unique(dfp['Educacao']))\n",
        "#TESTEI TODOS AS COLUNAS, NÃO FORAM ENCONTRADAS INCONSISTÊNCIAS COM CARACTERES ESPECIAIS"
      ],
      "metadata": {
        "colab": {
          "base_uri": "https://localhost:8080/"
        },
        "id": "5yMl6CCR_0Er",
        "outputId": "90cfd7b1-7d36-45a0-a699-97120a4a44c3"
      },
      "execution_count": null,
      "outputs": [
        {
          "output_type": "execute_result",
          "data": {
            "text/plain": [
              "['2n Cycle', 'Basic', 'Graduation', 'Master', 'PhD']"
            ]
          },
          "metadata": {},
          "execution_count": 37
        }
      ]
    },
    {
      "cell_type": "code",
      "source": [
        "#TRADUÇÃO E TRATAMENTO DOS DADOS DAS COLUNAS UTILIZANDO A FUNCAO MAP\n",
        "dfp['Estado_Civil'] = dfp['Estado_Civil'].map({'Absurd':'Solteiro(a)', 'Alone':'Solteiro(a)', 'Divorced':'Divorciado(a)','Single':'Solteiro(a)','Together':'Uniao estavel','Widow':'Viuvo(a)','YOLO':'Solteiro(a)','Married':'Casado(a)'})"
      ],
      "metadata": {
        "id": "bXLbPs6YKEPZ"
      },
      "execution_count": null,
      "outputs": []
    },
    {
      "cell_type": "code",
      "source": [
        "dfp['Educacao'] = dfp['Educacao'].map({'2n Cycle':'Pos-graduado', 'Basic':'Basico','Graduation':'Graduado','Master':'Mestre','PhD':'PhD'})"
      ],
      "metadata": {
        "id": "c7dEyPRLNoKI"
      },
      "execution_count": null,
      "outputs": []
    },
    {
      "cell_type": "code",
      "source": [
        "#VERIFICAÇÃO E TRATAMENTO DE VALORES NULOS:\n",
        "dfp.isna().sum()\n",
        "#AO EXECUTAR A FUNÇÃO ISNA, FORAM DETECTADOS 24 CAMPOS NULOS EM RENDA."
      ],
      "metadata": {
        "colab": {
          "base_uri": "https://localhost:8080/"
        },
        "id": "ypNIJYASDpqe",
        "outputId": "6dbdded7-57e8-435b-ef01-beb9863bfd87"
      },
      "execution_count": null,
      "outputs": [
        {
          "output_type": "execute_result",
          "data": {
            "text/plain": [
              "ID                       0\n",
              "Ano_nascimento           0\n",
              "Educacao                 0\n",
              "Estado_Civil             0\n",
              "Renda                   24\n",
              "Crianca_em_Casa          0\n",
              "Adolesc_em_Casa          0\n",
              "Dt_Inscricao_Cliente     0\n",
              "Recente                  0\n",
              "Gasto_Vinho              0\n",
              "Gasto_Fruta              0\n",
              "Gasto_Carne              0\n",
              "Gasto_Peixe              0\n",
              "Gasto_Doce               0\n",
              "Gasto_Ouro               0\n",
              "Compras_Desconto         0\n",
              "Compras_Site             0\n",
              "Compras_Catalogo         0\n",
              "Compras_Loja             0\n",
              "Visitas_Site             0\n",
              "Reclamacoes              0\n",
              "dtype: int64"
            ]
          },
          "metadata": {},
          "execution_count": 40
        }
      ]
    },
    {
      "cell_type": "code",
      "source": [
        "#PARA NAO INTERFERIR NA MEDIA, CONSIDEREI OS VALORES NULOS COMO SENDO A MÉDIA DE TODOS OS DADOS DA RENDA\n",
        "media_renda = dfp['Renda'].mean()\n",
        "dfp['Renda'] = dfp['Renda'].fillna(media_renda)"
      ],
      "metadata": {
        "id": "ghYYovxubfTt"
      },
      "execution_count": null,
      "outputs": []
    },
    {
      "cell_type": "code",
      "source": [
        "#NAO HA MAIS NENHUM VALOR NULO NO DF\n",
        "dfp.isna().sum()"
      ],
      "metadata": {
        "colab": {
          "base_uri": "https://localhost:8080/"
        },
        "id": "2riof9gYc4Ri",
        "outputId": "3e5a1e25-b687-44d6-ae64-2967889d123f"
      },
      "execution_count": null,
      "outputs": [
        {
          "output_type": "execute_result",
          "data": {
            "text/plain": [
              "ID                      0\n",
              "Ano_nascimento          0\n",
              "Educacao                0\n",
              "Estado_Civil            0\n",
              "Renda                   0\n",
              "Crianca_em_Casa         0\n",
              "Adolesc_em_Casa         0\n",
              "Dt_Inscricao_Cliente    0\n",
              "Recente                 0\n",
              "Gasto_Vinho             0\n",
              "Gasto_Fruta             0\n",
              "Gasto_Carne             0\n",
              "Gasto_Peixe             0\n",
              "Gasto_Doce              0\n",
              "Gasto_Ouro              0\n",
              "Compras_Desconto        0\n",
              "Compras_Site            0\n",
              "Compras_Catalogo        0\n",
              "Compras_Loja            0\n",
              "Visitas_Site            0\n",
              "Reclamacoes             0\n",
              "dtype: int64"
            ]
          },
          "metadata": {},
          "execution_count": 42
        }
      ]
    },
    {
      "cell_type": "code",
      "source": [
        "dfp.dtypes"
      ],
      "metadata": {
        "colab": {
          "base_uri": "https://localhost:8080/"
        },
        "id": "3HwigVqvrX3F",
        "outputId": "dbc0ea14-bad8-4c8d-fd75-7e950c445787"
      },
      "execution_count": null,
      "outputs": [
        {
          "output_type": "execute_result",
          "data": {
            "text/plain": [
              "ID                        int64\n",
              "Ano_nascimento            int64\n",
              "Educacao                 object\n",
              "Estado_Civil             object\n",
              "Renda                   float64\n",
              "Crianca_em_Casa           int64\n",
              "Adolesc_em_Casa           int64\n",
              "Dt_Inscricao_Cliente     object\n",
              "Recente                   int64\n",
              "Gasto_Vinho               int64\n",
              "Gasto_Fruta               int64\n",
              "Gasto_Carne               int64\n",
              "Gasto_Peixe               int64\n",
              "Gasto_Doce                int64\n",
              "Gasto_Ouro                int64\n",
              "Compras_Desconto          int64\n",
              "Compras_Site              int64\n",
              "Compras_Catalogo          int64\n",
              "Compras_Loja              int64\n",
              "Visitas_Site              int64\n",
              "Reclamacoes               int64\n",
              "dtype: object"
            ]
          },
          "metadata": {},
          "execution_count": 49
        }
      ]
    },
    {
      "cell_type": "markdown",
      "source": [
        "##Utilizarei o Spark para fazer alterações e criações de colunas adicionais."
      ],
      "metadata": {
        "id": "dSTlhgBSgHdS"
      }
    },
    {
      "cell_type": "code",
      "source": [
        "from pyspark.sql import SparkSession\n",
        "from pyspark import SparkConf\n",
        "import pyspark.sql.functions as F\n",
        "from pyspark.sql.functions import col\n",
        "from pyspark.sql.functions import round\n",
        "from pyspark.sql.window import Window\n",
        "from pyspark.sql.types import StructType, StructField, StringType, IntegerType, FloatType\n",
        "spark = SparkSession.builder.master(\"local\").appName(\"aula-spark\").config(\"spark.ui.port\",\"4050\").getOrCreate()"
      ],
      "metadata": {
        "id": "0x78K3figvX9"
      },
      "execution_count": 10,
      "outputs": []
    },
    {
      "cell_type": "code",
      "source": [
        "dfp.columns"
      ],
      "metadata": {
        "colab": {
          "base_uri": "https://localhost:8080/"
        },
        "id": "EzpJltsrj7uI",
        "outputId": "1f0766e4-1839-428a-bfc1-8d313aeb4a58"
      },
      "execution_count": null,
      "outputs": [
        {
          "output_type": "execute_result",
          "data": {
            "text/plain": [
              "Index(['ID', 'Ano_nascimento', 'Educacao', 'Estado_Civil', 'Renda',\n",
              "       'Crianca_em_Casa', 'Adolesc_em_Casa', 'Dt_Inscricao_Cliente', 'Recente',\n",
              "       'Gasto_Vinho', 'Gasto_Fruta', 'Gasto_Carne', 'Gasto_Peixe',\n",
              "       'Gasto_Doce', 'Gasto_Ouro', 'Compras_Desconto', 'Compras_Site',\n",
              "       'Compras_Catalogo', 'Compras_Loja', 'Visitas_Site', 'Reclamacoes'],\n",
              "      dtype='object')"
            ]
          },
          "metadata": {},
          "execution_count": 51
        }
      ]
    },
    {
      "cell_type": "code",
      "source": [
        "#CONVERSAO DE VALORES INTEIROS PARA FLOAT PRA SETTAR NA STRUCT EM SEGUIDA PARA UTILIZAR O SPARK\n",
        "dfp = dfp.astype({'Gasto_Vinho': float, 'Gasto_Fruta': float,'Gasto_Carne': float,'Gasto_Peixe': float, 'Gasto_Doce': float, 'Gasto_Ouro': float})"
      ],
      "metadata": {
        "id": "U5fNxF9QuAhp"
      },
      "execution_count": null,
      "outputs": []
    },
    {
      "cell_type": "code",
      "source": [
        "dfp.dtypes"
      ],
      "metadata": {
        "colab": {
          "base_uri": "https://localhost:8080/"
        },
        "id": "avPCZLYHux0p",
        "outputId": "b8a683fe-08ca-4289-e8f3-283ddbfd7600"
      },
      "execution_count": null,
      "outputs": [
        {
          "output_type": "execute_result",
          "data": {
            "text/plain": [
              "ID                        int64\n",
              "Ano_nascimento            int64\n",
              "Educacao                 object\n",
              "Estado_Civil             object\n",
              "Renda                   float64\n",
              "Crianca_em_Casa           int64\n",
              "Adolesc_em_Casa           int64\n",
              "Dt_Inscricao_Cliente     object\n",
              "Recente                   int64\n",
              "Gasto_Vinho             float64\n",
              "Gasto_Fruta             float64\n",
              "Gasto_Carne             float64\n",
              "Gasto_Peixe             float64\n",
              "Gasto_Doce              float64\n",
              "Gasto_Ouro              float64\n",
              "Compras_Desconto          int64\n",
              "Compras_Site              int64\n",
              "Compras_Catalogo          int64\n",
              "Compras_Loja              int64\n",
              "Visitas_Site              int64\n",
              "Reclamacoes               int64\n",
              "dtype: object"
            ]
          },
          "metadata": {},
          "execution_count": 53
        }
      ]
    },
    {
      "cell_type": "code",
      "source": [
        "#IREI FAZER UMA STRUCT PARA ORGANIZAR E FIXAR O TIPO DO SCHEMA DO DATAFRAME\n",
        "esquema = (\n",
        "\tStructType([\n",
        "\tStructField(\"ID\",IntegerType(), False),\n",
        "\tStructField(\"Ano_nascimento\", StringType(), False),\n",
        "\tStructField(\"Educacao\", StringType(), False),\n",
        "\tStructField(\"Estado_Civil\", StringType(), False),\n",
        "\tStructField(\"Renda\", FloatType(), False),\n",
        "\tStructField(\"Crianca_em_Casa\", IntegerType(), False),\n",
        "\tStructField(\"Adolesc_em_Casa\", IntegerType(), False),\n",
        "  StructField(\"Dt_Inscricao\", StringType(), False),\n",
        "  StructField(\"Dias_Ultima_Compra\", IntegerType(), False),\n",
        "  StructField(\"Gasto_Vinho\", FloatType(), False),\n",
        "  StructField(\"Gasto_Fruta\", FloatType(), False),\n",
        "  StructField(\"Gasto_Carne\", FloatType(), False),\n",
        "  StructField(\"Gasto_Peixe\", FloatType(), False),\n",
        "  StructField(\"Gasto_Doce\", FloatType(), False),\n",
        "  StructField(\"Gasto_Ouro\", FloatType(), False),\n",
        "  StructField(\"Compras_Desconto\", IntegerType(), False),\n",
        "  StructField(\"Compras_Site\", IntegerType(), False),\n",
        "  StructField(\"Compras_Catalogo\", IntegerType(), False),\n",
        "  StructField(\"Compras_Loja\", IntegerType(), False),\n",
        "  StructField(\"Visitas_Site\", IntegerType(), False),\n",
        "  StructField(\"Reclamacoes\", IntegerType(), False),\n",
        "\t])\n",
        ")"
      ],
      "metadata": {
        "id": "nQOxkc7agzzB"
      },
      "execution_count": null,
      "outputs": []
    },
    {
      "cell_type": "code",
      "source": [
        "#CONVERSAO DO DATAFRAME PANDAS TO SPARK E CRIACAO DO DFS COM A STRUCT\n",
        "dfs = spark.createDataFrame(dfp, schema=esquema)"
      ],
      "metadata": {
        "id": "3OnQAbXzqLk0"
      },
      "execution_count": null,
      "outputs": []
    },
    {
      "cell_type": "code",
      "source": [
        "dfs.show(truncate=False)"
      ],
      "metadata": {
        "colab": {
          "base_uri": "https://localhost:8080/"
        },
        "id": "mVfsZTg501Uu",
        "outputId": "7b84d651-376f-46f2-a99c-8d916eb628b3"
      },
      "execution_count": null,
      "outputs": [
        {
          "output_type": "stream",
          "name": "stdout",
          "text": [
            "+----+--------------+------------+-------------+--------+---------------+---------------+------------+------------------+-----------+-----------+-----------+-----------+----------+----------+----------------+------------+----------------+------------+------------+-----------+\n",
            "|ID  |Ano_nascimento|Educacao    |Estado_Civil |Renda   |Crianca_em_Casa|Adolesc_em_Casa|Dt_Inscricao|Dias_Ultima_Compra|Gasto_Vinho|Gasto_Fruta|Gasto_Carne|Gasto_Peixe|Gasto_Doce|Gasto_Ouro|Compras_Desconto|Compras_Site|Compras_Catalogo|Compras_Loja|Visitas_Site|Reclamacoes|\n",
            "+----+--------------+------------+-------------+--------+---------------+---------------+------------+------------------+-----------+-----------+-----------+-----------+----------+----------+----------------+------------+----------------+------------+------------+-----------+\n",
            "|5524|1957          |Graduado    |Solteiro(a)  |58138.0 |0              |0              |04-09-2012  |58                |635.0      |88.0       |546.0      |172.0      |88.0      |88.0      |3               |8           |10              |4           |7           |0          |\n",
            "|2174|1954          |Graduado    |Solteiro(a)  |46344.0 |1              |1              |08-03-2014  |38                |11.0       |1.0        |6.0        |2.0        |1.0       |6.0       |2               |1           |1               |2           |5           |0          |\n",
            "|4141|1965          |Graduado    |Uniao estavel|71613.0 |0              |0              |21-08-2013  |26                |426.0      |49.0       |127.0      |111.0      |21.0      |42.0      |1               |8           |2               |10          |4           |0          |\n",
            "|6182|1984          |Graduado    |Uniao estavel|26646.0 |1              |0              |10-02-2014  |26                |11.0       |4.0        |20.0       |10.0       |3.0       |5.0       |2               |2           |0               |4           |6           |0          |\n",
            "|5324|1981          |PhD         |Casado(a)    |58293.0 |1              |0              |19-01-2014  |94                |173.0      |43.0       |118.0      |46.0       |27.0      |15.0      |5               |5           |3               |6           |5           |0          |\n",
            "|7446|1967          |Mestre      |Uniao estavel|62513.0 |0              |1              |09-09-2013  |16                |520.0      |42.0       |98.0       |0.0        |42.0      |14.0      |2               |6           |4               |10          |6           |0          |\n",
            "|965 |1971          |Graduado    |Divorciado(a)|55635.0 |0              |1              |13-11-2012  |34                |235.0      |65.0       |164.0      |50.0       |49.0      |27.0      |4               |7           |3               |7           |6           |0          |\n",
            "|6177|1985          |PhD         |Casado(a)    |33454.0 |1              |0              |08-05-2013  |32                |76.0       |10.0       |56.0       |3.0        |1.0       |23.0      |2               |4           |0               |4           |8           |0          |\n",
            "|4855|1974          |PhD         |Uniao estavel|30351.0 |1              |0              |06-06-2013  |19                |14.0       |0.0        |24.0       |3.0        |3.0       |2.0       |1               |3           |0               |2           |9           |0          |\n",
            "|5899|1950          |PhD         |Uniao estavel|5648.0  |1              |1              |13-03-2014  |68                |28.0       |0.0        |6.0        |1.0        |1.0       |13.0      |1               |1           |0               |0           |20          |0          |\n",
            "|1994|1983          |Graduado    |Casado(a)    |52247.25|1              |0              |15-11-2013  |11                |5.0        |5.0        |6.0        |0.0        |2.0       |1.0       |1               |1           |0               |2           |7           |0          |\n",
            "|387 |1976          |Basico      |Casado(a)    |7500.0  |0              |0              |13-11-2012  |59                |6.0        |16.0       |11.0       |11.0       |1.0       |16.0      |1               |2           |0               |3           |8           |0          |\n",
            "|2125|1959          |Graduado    |Divorciado(a)|63033.0 |0              |0              |15-11-2013  |82                |194.0      |61.0       |480.0      |225.0      |112.0     |30.0      |1               |3           |4               |8           |2           |0          |\n",
            "|8180|1952          |Mestre      |Divorciado(a)|59354.0 |1              |1              |15-11-2013  |53                |233.0      |2.0        |53.0       |3.0        |5.0       |14.0      |3               |6           |1               |5           |6           |0          |\n",
            "|2569|1987          |Graduado    |Casado(a)    |17323.0 |0              |0              |10-10-2012  |38                |3.0        |14.0       |17.0       |6.0        |1.0       |5.0       |1               |1           |0               |3           |8           |0          |\n",
            "|2114|1946          |PhD         |Solteiro(a)  |82800.0 |0              |0              |24-11-2012  |23                |1006.0     |22.0       |115.0      |59.0       |68.0      |45.0      |1               |7           |6               |12          |3           |0          |\n",
            "|9736|1980          |Graduado    |Casado(a)    |41850.0 |1              |1              |24-12-2012  |51                |53.0       |5.0        |19.0       |2.0        |13.0      |4.0       |3               |3           |0               |3           |8           |0          |\n",
            "|4939|1946          |Graduado    |Uniao estavel|37760.0 |0              |0              |31-08-2012  |20                |84.0       |5.0        |38.0       |150.0      |12.0      |28.0      |2               |4           |1               |6           |7           |0          |\n",
            "|6565|1949          |Mestre      |Casado(a)    |76995.0 |0              |1              |28-03-2013  |91                |1012.0     |80.0       |498.0      |0.0        |16.0      |176.0     |2               |11          |4               |9           |5           |0          |\n",
            "|2278|1985          |Pos-graduado|Solteiro(a)  |33812.0 |1              |0              |03-11-2012  |86                |4.0        |17.0       |19.0       |30.0       |24.0      |39.0      |2               |2           |1               |3           |6           |0          |\n",
            "+----+--------------+------------+-------------+--------+---------------+---------------+------------+------------------+-----------+-----------+-----------+-----------+----------+----------+----------------+------------+----------------+------------+------------+-----------+\n",
            "only showing top 20 rows\n",
            "\n"
          ]
        }
      ]
    },
    {
      "cell_type": "code",
      "source": [
        "#PARA SIMPLIFICAR POSSIVEIS MANIPULACOES, AS COLUNAS \"Adolesc_em_Casa\" e \"Criancas_em_Casa\" FORAM RENOMEADAS PARA \"Criancas_Casa\" e \"Adolesc_Casa\"\n",
        "dfs2=dfs.withColumnRenamed('Dt_Inscricao','Data_Inscricao').withColumnRenamed('Crianca_em_Casa','Criancas_Casa').withColumnRenamed('Adolesc_em_Casa','Adolesc_Casa')"
      ],
      "metadata": {
        "id": "J5LDH_L42HB2"
      },
      "execution_count": null,
      "outputs": []
    },
    {
      "cell_type": "code",
      "source": [
        "dfs = dfs2"
      ],
      "metadata": {
        "id": "rFMDNZG25Rk6"
      },
      "execution_count": null,
      "outputs": []
    },
    {
      "cell_type": "code",
      "source": [
        "#CRIANDO UMA COLUNA QUE SOMA O TOTAL GASTO COM ALIMENTACAO E OUTRA COM COMPRAS\n",
        "dfs2 = dfs.withColumn('Gasto_Alimentos',(F.col('Gasto_Vinho') + F.col('Gasto_Fruta') + F.col('Gasto_Carne') + F.col('Gasto_Peixe') + F.col('Gasto_Doce')))"
      ],
      "metadata": {
        "id": "cw_fZipA6Yn2"
      },
      "execution_count": null,
      "outputs": []
    },
    {
      "cell_type": "code",
      "source": [
        "dfs2 = dfs2.withColumn('nTotal_Compras',(F.col('Compras_Site') + F.col('Compras_Catalogo') + F.col('Compras_Loja')))"
      ],
      "metadata": {
        "id": "MBaV5_tL8s_7"
      },
      "execution_count": null,
      "outputs": []
    },
    {
      "cell_type": "code",
      "source": [
        "#COLUNA PARA CALCULAR O PERCENTUAL DO TOTAL GASTO COM ALIMENTACAO EM RELACAO A RENDA ANUAL\n",
        "dfs2 = dfs2.withColumn('Perc_gasto_Alimentos', (F.col('Gasto_Alimentos')/F.col('Renda')*100))"
      ],
      "metadata": {
        "id": "ClRmGWJV__B3"
      },
      "execution_count": null,
      "outputs": []
    },
    {
      "cell_type": "code",
      "source": [
        "dfs2 = dfs2.withColumnRenamed('Perc_Gasto_Alimentos','Perc_Gasto_Alimentos(%)')"
      ],
      "metadata": {
        "id": "BEK-LXhSTmQV"
      },
      "execution_count": null,
      "outputs": []
    },
    {
      "cell_type": "code",
      "source": [
        "#COMO E PERCENTUAL, DIMINUINDO O NUMERO DE CASAS DECIMAIS PARA TORNAR MAIS APRESENTAVEL\n",
        "dfs2 = dfs2.withColumn(\"Perc_Gasto_Alimentos(%)\",round(col(\"Perc_Gasto_Alimentos(%)\"),2))"
      ],
      "metadata": {
        "id": "hFogeQ_AY198"
      },
      "execution_count": null,
      "outputs": []
    },
    {
      "cell_type": "code",
      "source": [
        "dfs = dfs2"
      ],
      "metadata": {
        "id": "ZbozlDoifyJy"
      },
      "execution_count": null,
      "outputs": []
    },
    {
      "cell_type": "code",
      "source": [
        "#PARA FINS DE ANALISE, SERAO UTILIZADAS WINDOWS FUNCTIONS QUE IRAO ORDENAR A RENDA DE ACORDO COM GRUPOS DE NIVEIS DE EDUCACAO\n",
        "#AS LINHAS ESTAO ORDENADAS DE ACORDO COM O NIVEL DE INSTRUCAO, DE FORMA ASCENDENTE. AS RENDAS SAO CRESCENTES JUNTAMENTE AOS RANK'S.\n",
        "WF = Window.partitionBy(F.col('Educacao')).orderBy(F.col('Renda'))\n",
        "Rank_EDU = dfs2.withColumn('Rank',F.row_number().over(WF)).show(50)"
      ],
      "metadata": {
        "colab": {
          "base_uri": "https://localhost:8080/"
        },
        "id": "L_u-ipmKnJsx",
        "outputId": "188700ab-8a8e-4119-8c41-d1df34e8bb7a"
      },
      "execution_count": null,
      "outputs": [
        {
          "output_type": "stream",
          "name": "stdout",
          "text": [
            "+-----+--------------+--------+-------------+-------+-------------+------------+--------------+------------------+-----------+-----------+-----------+-----------+----------+----------+----------------+------------+----------------+------------+------------+-----------+---------------+--------------+-----------------------+----+\n",
            "|   ID|Ano_nascimento|Educacao| Estado_Civil|  Renda|Criancas_Casa|Adolesc_Casa|Data_Inscricao|Dias_Ultima_Compra|Gasto_Vinho|Gasto_Fruta|Gasto_Carne|Gasto_Peixe|Gasto_Doce|Gasto_Ouro|Compras_Desconto|Compras_Site|Compras_Catalogo|Compras_Loja|Visitas_Site|Reclamacoes|Gasto_Alimentos|nTotal_Compras|Perc_Gasto_Alimentos(%)|Rank|\n",
            "+-----+--------------+--------+-------------+-------+-------------+------------+--------------+------------------+-----------+-----------+-----------+-----------+----------+----------+----------------+------------+----------------+------------+------------+-----------+---------------+--------------+-----------------------+----+\n",
            "|  387|          1976|  Basico|    Casado(a)| 7500.0|            0|           0|    13-11-2012|                59|        6.0|       16.0|       11.0|       11.0|       1.0|      16.0|               1|           2|               0|           3|           8|          0|           45.0|             5|                    0.6|   1|\n",
            "| 4136|          1992|  Basico|  Solteiro(a)| 7500.0|            1|           0|    03-12-2012|                63|       10.0|       17.0|       18.0|        8.0|      26.0|      40.0|               4|           3|               2|           2|           9|          0|           79.0|             7|                   1.05|   2|\n",
            "|10395|          1986|  Basico|  Solteiro(a)| 8940.0|            1|           0|    22-08-2012|                25|        1.0|       45.0|        3.0|        4.0|       6.0|      42.0|               3|           3|               1|           3|           8|          0|           59.0|             7|                   0.66|   3|\n",
            "| 5342|          1976|  Basico|Divorciado(a)| 9548.0|            1|           0|    08-08-2012|                31|        0.0|        1.0|        3.0|       10.0|       6.0|       9.0|               2|           1|               0|           3|           8|          0|           20.0|             4|                   0.21|   4|\n",
            "| 7349|          1973|  Basico|Uniao estavel| 9722.0|            1|           0|    02-10-2012|                 7|        6.0|       17.0|       16.0|        6.0|      16.0|      42.0|               4|           3|               1|           3|           8|          0|           61.0|             7|                   0.63|   5|\n",
            "| 9316|          1952|  Basico|Uniao estavel|13084.0|            0|           0|    02-11-2013|                29|        2.0|        0.0|        7.0|        3.0|       7.0|      10.0|               1|           1|               0|           3|           6|          0|           19.0|             4|                   0.15|   6|\n",
            "|10069|          1988|  Basico|Uniao estavel|13724.0|            1|           0|    31-08-2012|                43|        2.0|        7.0|        5.0|        2.0|      15.0|      27.0|               1|           2|               0|           2|           9|          0|           31.0|             4|                   0.23|   7|\n",
            "| 5802|          1972|  Basico|    Casado(a)|14188.0|            0|           0|    28-02-2013|                40|        2.0|        7.0|       11.0|       16.0|      12.0|      27.0|               1|           2|               0|           4|           6|          0|           48.0|             6|                   0.34|   8|\n",
            "|  193|          1996|  Basico|    Casado(a)|14421.0|            0|           0|    17-02-2014|                81|        0.0|        0.0|        2.0|        3.0|       3.0|       8.0|               1|           1|               0|           2|           5|          0|            8.0|             3|                   0.06|   9|\n",
            "| 8700|          1986|  Basico|  Solteiro(a)|14906.0|            0|           0|    22-12-2012|                86|        7.0|        7.0|       14.0|        7.0|      16.0|      15.0|               3|           2|               1|           3|           7|          0|           51.0|             6|                   0.34|  10|\n",
            "| 3850|          1963|  Basico|Uniao estavel|14918.0|            0|           1|    07-12-2012|                52|        3.0|        3.0|        3.0|       15.0|       4.0|      15.0|               1|           1|               0|           3|           6|          0|           28.0|             4|                   0.19|  11|\n",
            "| 3628|          1987|  Basico|  Solteiro(a)|15038.0|            1|           0|    29-01-2013|                93|        4.0|        8.0|       11.0|       19.0|      12.0|      26.0|               2|           2|               1|           2|           9|          0|           54.0|             5|                   0.36|  12|\n",
            "| 3839|          1958|  Basico|  Solteiro(a)|15056.0|            1|           1|    03-05-2013|                76|        6.0|       12.0|        3.0|       21.0|       6.0|      40.0|               5|           2|               2|           3|           5|          0|           48.0|             7|                   0.32|  13|\n",
            "| 7600|          1992|  Basico|  Solteiro(a)|15253.0|            1|           0|    28-10-2013|                13|        1.0|        3.0|        3.0|        8.0|       1.0|      13.0|               2|           1|               0|           3|           7|          0|           16.0|             4|                    0.1|  14|\n",
            "| 6347|          1979|  Basico|  Solteiro(a)|15862.0|            1|           0|    27-06-2013|                26|        1.0|        1.0|        4.0|       11.0|       9.0|      10.0|               1|           1|               0|           3|           8|          0|           26.0|             4|                   0.16|  15|\n",
            "|  642|          1980|  Basico|    Casado(a)|16005.0|            1|           0|    14-08-2012|                69|        1.0|        3.0|        2.0|       20.0|      30.0|      47.0|               3|           2|               1|           2|           8|          0|           56.0|             5|                   0.35|  16|\n",
            "| 5394|          1979|  Basico|  Solteiro(a)|16014.0|            1|           1|    17-03-2013|                42|        3.0|        9.0|        4.0|        7.0|       8.0|       7.0|               4|           1|               1|           4|           3|          0|           31.0|             6|                   0.19|  17|\n",
            "| 7620|          1990|  Basico|  Solteiro(a)|16185.0|            1|           0|    05-08-2013|                71|        5.0|       11.0|       16.0|       21.0|       8.0|      45.0|               2|           2|               2|           2|           8|          0|           61.0|             6|                   0.38|  18|\n",
            "| 8977|          1985|  Basico|  Solteiro(a)|16581.0|            0|           0|    12-01-2013|                51|        1.0|        3.0|        4.0|        2.0|       3.0|      11.0|               1|           0|               0|           3|           4|          0|           13.0|             3|                   0.08|  19|\n",
            "| 1384|          1992|  Basico|    Casado(a)|17256.0|            1|           0|    23-11-2013|                10|        6.0|        4.0|       14.0|        8.0|       8.0|      22.0|               2|           2|               1|           2|           8|          0|           40.0|             5|                   0.23|  20|\n",
            "| 6516|          1989|  Basico|    Casado(a)|17487.0|            1|           0|    18-03-2013|                37|        0.0|        0.0|        1.0|        7.0|       4.0|       6.0|               1|           1|               0|           2|           7|          0|           12.0|             3|                   0.07|  21|\n",
            "| 6398|          1974|  Basico|    Casado(a)|18393.0|            1|           0|    29-03-2014|                 2|        7.0|       10.0|       13.0|       16.0|       0.0|       4.0|               2|           3|               0|           3|           8|          0|           46.0|             6|                   0.25|  22|\n",
            "| 4055|          1992|  Basico|  Solteiro(a)|18746.0|            1|           0|    29-05-2014|                41|        2.0|       10.0|       11.0|       12.0|       9.0|      20.0|               2|           3|               0|           3|           6|          0|           44.0|             6|                   0.23|  23|\n",
            "| 6682|          1973|  Basico|    Casado(a)|18978.0|            1|           0|    11-12-2012|                41|        2.0|        8.0|        1.0|        4.0|       7.0|      15.0|               1|           1|               0|           3|           8|          0|           22.0|             4|                   0.12|  24|\n",
            "| 5150|          1979|  Basico|  Solteiro(a)|20194.0|            1|           0|    17-12-2012|                64|        0.0|        4.0|        7.0|       11.0|      10.0|      15.0|               2|           2|               0|           3|           6|          0|           32.0|             5|                   0.16|  25|\n",
            "| 4211|          1986|  Basico|    Casado(a)|20425.0|            1|           0|    29-10-2012|                 5|        4.0|       12.0|        5.0|        3.0|      16.0|      17.0|               2|           2|               0|           3|           7|          0|           40.0|             5|                    0.2|  26|\n",
            "| 1407|          1986|  Basico|    Casado(a)|20425.0|            1|           0|    29-10-2012|                 5|        4.0|       12.0|        5.0|        3.0|      16.0|      17.0|               2|           2|               0|           3|           7|          0|           40.0|             5|                    0.2|  27|\n",
            "| 1987|          1987|  Basico|  Solteiro(a)|21063.0|            1|           0|    25-09-2013|                34|        1.0|       10.0|       11.0|       19.0|       3.0|      15.0|               2|           2|               0|           3|           6|          0|           44.0|             5|                   0.21|  28|\n",
            "|  954|          1960|  Basico|     Viuvo(a)|22123.0|            0|           0|    27-03-2014|                77|        3.0|        3.0|       24.0|       34.0|       7.0|      31.0|               1|           2|               1|           3|           5|          0|           71.0|             6|                   0.32|  29|\n",
            "| 2686|          1969|  Basico|Uniao estavel|22390.0|            0|           0|    21-10-2013|                49|        0.0|        1.0|        4.0|       15.0|       1.0|       5.0|               1|           1|               0|           2|           7|          0|           21.0|             3|                   0.09|  30|\n",
            "|  880|          1966|  Basico|Uniao estavel|22634.0|            0|           0|    16-01-2013|                47|        2.0|       23.0|       11.0|        8.0|       6.0|      46.0|               1|           2|               1|           2|           8|          0|           50.0|             5|                   0.22|  31|\n",
            "|  524|          1966|  Basico|Uniao estavel|22634.0|            0|           0|    16-01-2013|                47|        2.0|       23.0|       11.0|        8.0|       6.0|      46.0|               1|           2|               1|           2|           8|          0|           50.0|             5|                   0.22|  32|\n",
            "| 1744|          1965|  Basico|  Solteiro(a)|23529.0|            0|           1|    07-01-2013|                67|        9.0|        7.0|       13.0|        3.0|       2.0|      20.0|               1|           1|               1|           2|           6|          0|           34.0|             4|                   0.14|  33|\n",
            "| 8686|          1979|  Basico|Uniao estavel|23724.0|            1|           0|    08-01-2013|                65|        5.0|       23.0|       15.0|        0.0|      18.0|      14.0|               2|           2|               0|           3|           8|          0|           61.0|             5|                   0.26|  34|\n",
            "| 8151|          1990|  Basico|    Casado(a)|24279.0|            0|           0|    29-12-2012|                 6|       16.0|       36.0|       21.0|       20.0|      62.0|     108.0|               1|           4|               1|           3|           8|          0|          155.0|             8|                   0.64|  35|\n",
            "| 5181|          1982|  Basico|  Solteiro(a)|24367.0|            1|           0|    20-03-2013|                58|        2.0|        4.0|        2.0|        0.0|      11.0|       5.0|               1|           1|               0|           2|           9|          0|           19.0|             3|                   0.08|  36|\n",
            "| 4669|          1981|  Basico|    Casado(a)|24480.0|            1|           0|    11-02-2013|                46|        4.0|       19.0|        9.0|       28.0|      25.0|      17.0|               3|           3|               0|           4|           7|          0|           85.0|             7|                   0.35|  37|\n",
            "| 8373|          1979|  Basico|Uniao estavel|24594.0|            1|           0|    10-12-2013|                94|        1.0|        3.0|        6.0|       10.0|       0.0|       9.0|               1|           1|               0|           3|           5|          0|           20.0|             4|                   0.08|  38|\n",
            "| 3829|          1979|  Basico|Uniao estavel|24594.0|            1|           0|    10-12-2013|                94|        1.0|        3.0|        6.0|       10.0|       0.0|       9.0|               1|           1|               0|           3|           5|          0|           20.0|             4|                   0.08|  39|\n",
            "| 9733|          1978|  Basico|Uniao estavel|24882.0|            1|           0|    09-09-2012|                52|        1.0|        4.0|       10.0|       29.0|       0.0|      36.0|               1|           1|               1|           2|           6|          0|           44.0|             4|                   0.18|  40|\n",
            "| 8462|          1978|  Basico|Uniao estavel|24882.0|            1|           0|    09-09-2012|                52|        1.0|        4.0|       10.0|       29.0|       0.0|      36.0|               1|           1|               1|           2|           6|          0|           44.0|             4|                   0.18|  41|\n",
            "| 1646|          1972|  Basico|    Casado(a)|25224.0|            1|           0|    16-03-2014|                36|        4.0|        9.0|       12.0|       11.0|       2.0|       8.0|               2|           1|               1|           3|           3|          0|           38.0|             5|                   0.15|  42|\n",
            "| 5692|          1989|  Basico|    Casado(a)|25443.0|            1|           0|    22-12-2012|                82|        1.0|        4.0|        3.0|        8.0|       9.0|       7.0|               1|           1|               0|           3|           8|          0|           25.0|             4|                    0.1|  43|\n",
            "|11086|          1984|  Basico|  Solteiro(a)|25707.0|            1|           0|    18-01-2014|                18|        1.0|        6.0|        2.0|        3.0|       6.0|       3.0|               1|           1|               0|           3|           7|          0|           18.0|             4|                   0.07|  44|\n",
            "| 1777|          1980|  Basico|    Casado(a)|25965.0|            0|           0|    07-09-2012|                29|        2.0|        2.0|       11.0|       41.0|       7.0|      11.0|               1|           2|               0|           3|           8|          0|           63.0|             5|                   0.24|  45|\n",
            "|11187|          1978|  Basico|  Solteiro(a)|26487.0|            1|           0|    20-05-2013|                23|        2.0|        8.0|       10.0|       12.0|      14.0|      23.0|               3|           2|               1|           3|           5|          0|           46.0|             6|                   0.17|  46|\n",
            "| 9960|          1991|  Basico|  Solteiro(a)|26868.0|            1|           0|    30-04-2014|                52|        0.0|        0.0|        1.0|        8.0|       3.0|       2.0|               1|           1|               0|           2|           7|          0|           12.0|             3|                   0.04|  47|\n",
            "| 5043|          1951|  Basico|    Casado(a)|26997.0|            0|           0|    05-11-2012|                89|        7.0|       23.0|       78.0|      133.0|      49.0|     144.0|               2|           4|               2|           5|           7|          0|          290.0|            11|                   1.07|  48|\n",
            "| 8234|          1973|  Basico|Uniao estavel|27190.0|            1|           0|    15-08-2013|                13|        1.0|        6.0|        7.0|        0.0|       1.0|       3.0|               1|           1|               0|           2|           8|          0|           15.0|             3|                   0.06|  49|\n",
            "| 2563|          1961|  Basico|    Casado(a)|28249.0|            0|           0|    15-06-2014|                80|        1.0|        9.0|        7.0|        2.0|      14.0|      10.0|               1|           2|               0|           3|           6|          0|           33.0|             5|                   0.12|  50|\n",
            "+-----+--------------+--------+-------------+-------+-------------+------------+--------------+------------------+-----------+-----------+-----------+-----------+----------+----------+----------------+------------+----------------+------------+------------+-----------+---------------+--------------+-----------------------+----+\n",
            "only showing top 50 rows\n",
            "\n"
          ]
        }
      ]
    },
    {
      "cell_type": "code",
      "source": [
        "#NESTE BLOCO ESTOU UTILIZANDO UMA WINDOW FUNCTION QUE DETERMINA E CLASSIFICA A RENDA COM BASE NOS ESTADOS CIVIS\n",
        "WF2 = Window.partitionBy('Estado_Civil').orderBy('Renda')\n",
        "Rank_EC = dfs.withColumn('Rank',F.row_number().over(WF2)).show(50)"
      ],
      "metadata": {
        "colab": {
          "base_uri": "https://localhost:8080/"
        },
        "id": "07HeImRFKvPT",
        "outputId": "1a625ac3-41fd-4c37-ec40-96e53e017acf"
      },
      "execution_count": null,
      "outputs": [
        {
          "output_type": "stream",
          "name": "stdout",
          "text": [
            "+-----+--------------+------------+------------+-------+-------------+------------+--------------+------------------+-----------+-----------+-----------+-----------+----------+----------+----------------+------------+----------------+------------+------------+-----------+---------------+--------------+-----------------------+----+\n",
            "|   ID|Ano_nascimento|    Educacao|Estado_Civil|  Renda|Criancas_Casa|Adolesc_Casa|Data_Inscricao|Dias_Ultima_Compra|Gasto_Vinho|Gasto_Fruta|Gasto_Carne|Gasto_Peixe|Gasto_Doce|Gasto_Ouro|Compras_Desconto|Compras_Site|Compras_Catalogo|Compras_Loja|Visitas_Site|Reclamacoes|Gasto_Alimentos|nTotal_Compras|Perc_Gasto_Alimentos(%)|Rank|\n",
            "+-----+--------------+------------+------------+-------+-------------+------------+--------------+------------------+-----------+-----------+-----------+-----------+----------+----------+----------------+------------+----------------+------------+------------+-----------+---------------+--------------+-----------------------+----+\n",
            "| 5376|          1979|    Graduado|   Casado(a)| 2447.0|            1|           0|    06-01-2013|                42|        1.0|        1.0|     1725.0|        1.0|       1.0|       1.0|              15|           0|              28|           0|           1|          0|         1729.0|            28|                  70.66|   1|\n",
            "| 9931|          1963|         PhD|   Casado(a)| 4023.0|            1|           1|    23-06-2014|                29|        5.0|        0.0|        1.0|        1.0|       1.0|       1.0|              15|           0|               0|           0|          19|          0|            8.0|             0|                    0.2|   2|\n",
            "|10311|          1969|    Graduado|   Casado(a)| 4428.0|            0|           1|    05-10-2013|                 0|       16.0|        4.0|       12.0|        2.0|       4.0|     321.0|               0|          25|               0|           0|           1|          0|           38.0|            25|                   0.86|   3|\n",
            "| 9303|          1976|    Graduado|   Casado(a)| 5305.0|            0|           1|    30-07-2013|                12|       12.0|        4.0|        7.0|        1.0|       3.0|       5.0|               0|           1|               0|           0|          13|          0|           27.0|             1|                   0.51|   4|\n",
            "|  387|          1976|      Basico|   Casado(a)| 7500.0|            0|           0|    13-11-2012|                59|        6.0|       16.0|       11.0|       11.0|       1.0|      16.0|               1|           2|               0|           3|           8|          0|           45.0|             5|                    0.6|   5|\n",
            "| 2139|          1975|      Mestre|   Casado(a)| 7500.0|            1|           0|    02-10-2013|                19|        3.0|        1.0|       10.0|        3.0|       2.0|      12.0|               3|           2|               0|           3|           5|          0|           19.0|             5|                   0.25|   6|\n",
            "| 9909|          1996|Pos-graduado|   Casado(a)| 7500.0|            0|           0|    09-11-2012|                24|        3.0|       18.0|       14.0|       15.0|      22.0|      50.0|               3|           3|               1|           3|           9|          0|           72.0|             7|                   0.96|   7|\n",
            "|  456|          1986|Pos-graduado|   Casado(a)| 7500.0|            1|           0|    07-02-2013|                96|        1.0|       11.0|        5.0|        4.0|       6.0|       9.0|               2|           2|               0|           3|           8|          0|           27.0|             5|                   0.36|   8|\n",
            "| 4692|          1976|    Graduado|   Casado(a)| 7500.0|            1|           0|    01-08-2012|                19|        7.0|        0.0|       12.0|       13.0|       7.0|      32.0|               5|           4|               1|           2|           9|          0|           39.0|             7|                   0.52|   9|\n",
            "| 9553|          1987|    Graduado|   Casado(a)| 7500.0|            0|           0|    09-01-2013|                94|        0.0|        2.0|        3.0|        4.0|       1.0|       5.0|               1|           0|               0|           3|           6|          0|           10.0|             3|                   0.13|  10|\n",
            "|10710|          1979|    Graduado|   Casado(a)| 7500.0|            0|           1|    29-08-2012|                61|        5.0|        2.0|        3.0|        3.0|       0.0|       5.0|               1|           1|               0|           2|           8|          0|           13.0|             3|                   0.17|  11|\n",
            "| 1773|          1978|Pos-graduado|   Casado(a)|12393.0|            0|           0|    04-12-2012|                38|        5.0|        6.0|       15.0|       11.0|       7.0|      13.0|               1|           2|               0|           3|           9|          0|           44.0|             5|                   0.36|  12|\n",
            "| 1160|          1970|    Graduado|   Casado(a)|13260.0|            1|           1|    23-08-2013|                48|        9.0|        4.0|       17.0|       10.0|       2.0|       7.0|               4|           3|               0|           3|           8|          0|           42.0|             6|                   0.32|  13|\n",
            "| 3641|          1976|    Graduado|   Casado(a)|13624.0|            1|           0|    20-01-2013|                93|       10.0|        2.0|       15.0|        2.0|       1.0|       6.0|               2|           2|               0|           3|           6|          0|           30.0|             5|                   0.22|  14|\n",
            "| 3436|          1969|    Graduado|   Casado(a)|14045.0|            1|           0|    26-01-2014|                24|       11.0|        0.0|        5.0|        2.0|       1.0|       1.0|               1|           1|               0|           3|           7|          0|           19.0|             4|                   0.14|  15|\n",
            "| 5802|          1972|      Basico|   Casado(a)|14188.0|            0|           0|    28-02-2013|                40|        2.0|        7.0|       11.0|       16.0|      12.0|      27.0|               1|           2|               0|           4|           6|          0|           48.0|             6|                   0.34|  16|\n",
            "|  193|          1996|      Basico|   Casado(a)|14421.0|            0|           0|    17-02-2014|                81|        0.0|        0.0|        2.0|        3.0|       3.0|       8.0|               1|           1|               0|           2|           5|          0|            8.0|             3|                   0.06|  17|\n",
            "| 1241|          1984|Pos-graduado|   Casado(a)|14796.0|            1|           0|    17-09-2012|                 1|       13.0|        3.0|        8.0|        7.0|       4.0|      16.0|               2|           1|               0|           3|           9|          0|           35.0|             4|                   0.24|  18|\n",
            "|10262|          1980|    Graduado|   Casado(a)|15072.0|            2|           0|    10-05-2013|                96|        8.0|        2.0|       15.0|        0.0|      10.0|      18.0|               4|           3|               1|           3|           5|          0|           35.0|             7|                   0.23|  19|\n",
            "| 8420|          1970|Pos-graduado|   Casado(a)|15315.0|            0|           0|    03-08-2013|                27|        7.0|        4.0|       13.0|       15.0|       8.0|      17.0|               2|           2|               0|           4|           5|          0|           47.0|             6|                   0.31|  20|\n",
            "|10065|          1970|Pos-graduado|   Casado(a)|15315.0|            0|           0|    03-08-2013|                27|        7.0|        4.0|       13.0|       15.0|       8.0|      17.0|               2|           2|               0|           4|           5|          0|           47.0|             6|                   0.31|  21|\n",
            "|10995|          1988|Pos-graduado|   Casado(a)|15716.0|            1|           0|    12-11-2012|                 8|       16.0|        5.0|       30.0|        8.0|       7.0|      26.0|               3|           3|               0|           4|           8|          1|           66.0|             7|                   0.42|  22|\n",
            "| 4808|          1956|    Graduado|   Casado(a)|15759.0|            0|           0|    05-09-2013|                12|        1.0|        2.0|        5.0|        6.0|       0.0|       3.0|               1|           1|               0|           2|           7|          0|           14.0|             3|                   0.09|  23|\n",
            "|  642|          1980|      Basico|   Casado(a)|16005.0|            1|           0|    14-08-2012|                69|        1.0|        3.0|        2.0|       20.0|      30.0|      47.0|               3|           2|               1|           2|           8|          0|           56.0|             5|                   0.35|  24|\n",
            "| 3559|          1988|Pos-graduado|   Casado(a)|16248.0|            1|           0|    10-05-2014|                77|       12.0|       11.0|       10.0|        3.0|      12.0|       9.0|               3|           2|               1|           3|           6|          0|           48.0|             6|                    0.3|  25|\n",
            "| 4415|          1961|    Graduado|   Casado(a)|16860.0|            1|           1|    12-09-2012|                19|       10.0|        4.0|        4.0|        3.0|       3.0|      14.0|               3|           1|               1|           3|           7|          0|           24.0|             5|                   0.14|  26|\n",
            "|10031|          1976|         PhD|   Casado(a)|16927.0|            1|           1|    10-02-2013|                50|       20.0|        2.0|       23.0|        3.0|       1.0|       4.0|               5|           3|               0|           4|           8|          0|           49.0|             7|                   0.29|  27|\n",
            "| 7235|          1975|Pos-graduado|   Casado(a)|17003.0|            1|           0|    09-12-2013|                37|        2.0|        5.0|       12.0|        4.0|       8.0|       7.0|               3|           2|               0|           4|           5|          0|           31.0|             6|                   0.18|  28|\n",
            "| 9481|          1976|    Graduado|   Casado(a)|17148.0|            1|           0|    28-01-2014|                80|        9.0|        9.0|       11.0|       13.0|      10.0|      16.0|               4|           3|               1|           3|           8|          0|           52.0|             7|                    0.3|  29|\n",
            "| 1384|          1992|      Basico|   Casado(a)|17256.0|            1|           0|    23-11-2013|                10|        6.0|        4.0|       14.0|        8.0|       8.0|      22.0|               2|           2|               1|           2|           8|          0|           40.0|             5|                   0.23|  30|\n",
            "| 2569|          1987|    Graduado|   Casado(a)|17323.0|            0|           0|    10-10-2012|                38|        3.0|       14.0|       17.0|        6.0|       1.0|       5.0|               1|           1|               0|           3|           8|          0|           41.0|             4|                   0.24|  31|\n",
            "| 4240|          1978|    Graduado|   Casado(a)|17345.0|            1|           0|    03-11-2012|                79|        4.0|        9.0|       16.0|       17.0|       0.0|      12.0|               2|           2|               1|           2|           8|          0|           46.0|             5|                   0.27|  32|\n",
            "| 6516|          1989|      Basico|   Casado(a)|17487.0|            1|           0|    18-03-2013|                37|        0.0|        0.0|        1.0|        7.0|       4.0|       6.0|               1|           1|               0|           2|           7|          0|           12.0|             3|                   0.07|  33|\n",
            "| 8625|          1976|    Graduado|   Casado(a)|17649.0|            1|           0|    12-11-2013|                70|       15.0|        1.0|       23.0|        0.0|       5.0|       1.0|               3|           3|               0|           3|           8|          0|           44.0|             6|                   0.25|  34|\n",
            "| 6742|          1979|    Graduado|   Casado(a)|17688.0|            1|           0|    13-01-2013|                82|        2.0|        2.0|        1.0|        3.0|       1.0|       2.0|               1|           1|               0|           2|           8|          1|            9.0|             3|                   0.05|  35|\n",
            "| 5029|          1946|    Graduado|   Casado(a)|18100.0|            0|           0|    06-08-2013|                14|        3.0|        1.0|        2.0|        4.0|       3.0|       1.0|               1|           0|               0|           3|           5|          0|           13.0|             3|                   0.07|  36|\n",
            "|10790|          1985|         PhD|   Casado(a)|18169.0|            1|           0|    19-02-2013|                40|        9.0|        0.0|        5.0|        0.0|       0.0|       7.0|               1|           1|               0|           2|           8|          0|           14.0|             3|                   0.08|  37|\n",
            "| 2431|          1990|    Graduado|   Casado(a)|18222.0|            0|           0|    31-12-2012|                70|       12.0|        4.0|       19.0|       12.0|       6.0|      14.0|               1|           2|               0|           3|           8|          0|           53.0|             5|                   0.29|  38|\n",
            "| 3068|          1990|    Graduado|   Casado(a)|18351.0|            0|           0|    29-10-2013|                 1|        1.0|       12.0|        9.0|        0.0|      14.0|       7.0|               1|           2|               0|           3|           7|          0|           36.0|             5|                    0.2|  39|\n",
            "| 6398|          1974|      Basico|   Casado(a)|18393.0|            1|           0|    29-03-2014|                 2|        7.0|       10.0|       13.0|       16.0|       0.0|       4.0|               2|           3|               0|           3|           8|          0|           46.0|             6|                   0.25|  40|\n",
            "|10826|          1959|    Graduado|   Casado(a)|18690.0|            0|           0|    28-12-2012|                77|        6.0|        1.0|        7.0|       23.0|       4.0|      19.0|               1|           1|               1|           2|           8|          0|           41.0|             4|                   0.22|  41|\n",
            "| 4086|          1959|    Graduado|   Casado(a)|18690.0|            0|           0|    28-12-2012|                77|        6.0|        1.0|        7.0|       23.0|       4.0|      19.0|               1|           1|               1|           2|           8|          0|           41.0|             4|                   0.22|  42|\n",
            "|10304|          1959|    Graduado|   Casado(a)|18690.0|            0|           0|    28-12-2012|                77|        6.0|        1.0|        7.0|       23.0|       4.0|      19.0|               1|           1|               1|           2|           8|          0|           41.0|             4|                   0.22|  43|\n",
            "| 9668|          1971|    Graduado|   Casado(a)|18793.0|            1|           0|    12-01-2013|                14|        4.0|       16.0|       20.0|        0.0|      17.0|      20.0|               3|           2|               0|           4|           8|          0|           57.0|             6|                    0.3|  44|\n",
            "| 2253|          1990|    Graduado|   Casado(a)|18929.0|            0|           0|    16-02-2013|                15|       32.0|        0.0|        8.0|       23.0|       4.0|      18.0|               1|           1|               0|           4|           6|          0|           67.0|             5|                   0.35|  45|\n",
            "| 2326|          1990|    Graduado|   Casado(a)|18929.0|            0|           0|    16-02-2013|                15|       32.0|        0.0|        8.0|       23.0|       4.0|      18.0|               1|           1|               0|           4|           6|          0|           67.0|             5|                   0.35|  46|\n",
            "| 1876|          1990|    Graduado|   Casado(a)|18929.0|            0|           0|    16-02-2013|                15|       32.0|        0.0|        8.0|       23.0|       4.0|      18.0|               1|           1|               0|           4|           6|          0|           67.0|             5|                   0.35|  47|\n",
            "| 6682|          1973|      Basico|   Casado(a)|18978.0|            1|           0|    11-12-2012|                41|        2.0|        8.0|        1.0|        4.0|       7.0|      15.0|               1|           1|               0|           3|           8|          0|           22.0|             4|                   0.12|  48|\n",
            "| 4329|          1984|         PhD|   Casado(a)|18988.0|            1|           0|    23-05-2014|                43|        6.0|        0.0|        6.0|        2.0|       1.0|       1.0|               2|           1|               0|           3|           7|          0|           15.0|             4|                   0.08|  49|\n",
            "| 5868|          1980|    Graduado|   Casado(a)|19107.0|            1|           0|    22-08-2013|                49|        2.0|        4.0|        9.0|       10.0|       5.0|      16.0|               2|           1|               0|           3|           7|          0|           30.0|             4|                   0.16|  50|\n",
            "+-----+--------------+------------+------------+-------+-------------+------------+--------------+------------------+-----------+-----------+-----------+-----------+----------+----------+----------------+------------+----------------+------------+------------+-----------+---------------+--------------+-----------------------+----+\n",
            "only showing top 50 rows\n",
            "\n"
          ]
        }
      ]
    },
    {
      "cell_type": "markdown",
      "source": [
        "ABAIXO SERÃO FEITAS AS CONSULTAS SQL VIA SPARK.SQL"
      ],
      "metadata": {
        "id": "Ew7wu53Bw56j"
      }
    },
    {
      "cell_type": "code",
      "source": [
        "dfs.createOrReplaceTempView('marketing')"
      ],
      "metadata": {
        "id": "vK1bgnTos20F"
      },
      "execution_count": null,
      "outputs": []
    },
    {
      "cell_type": "code",
      "source": [
        "#CONSULTANDO A MÉDIA DE TODAS AS RENDAS VIA SPARK.SQL\n",
        "#ESTA CONSULTA CONSISTE VISUALIZAR A MEDIA DE TODAS AS RENDAS DA TABELA\n",
        "spark.sql('select avg(marketing.Renda) from marketing').show()"
      ],
      "metadata": {
        "colab": {
          "base_uri": "https://localhost:8080/"
        },
        "id": "PVLyBXi8wTCX",
        "outputId": "82308c0e-b832-4e59-fe96-53a99828138c"
      },
      "execution_count": null,
      "outputs": [
        {
          "output_type": "stream",
          "name": "stdout",
          "text": [
            "+------------------+\n",
            "|        avg(Renda)|\n",
            "+------------------+\n",
            "|52247.251339285714|\n",
            "+------------------+\n",
            "\n"
          ]
        }
      ]
    },
    {
      "cell_type": "code",
      "source": [
        "#ESTA CONSULTA CONSISTE EM CONTAR A QUANTIDADE DE PESSOAS CUJA RENDA E MENOR QUE A MEDIA\n",
        "spark.sql(\"select COUNT(marketing.ID) FROM marketing WHERE Renda<52247.25;\").show()"
      ],
      "metadata": {
        "colab": {
          "base_uri": "https://localhost:8080/"
        },
        "id": "92XmgBq5zp4z",
        "outputId": "647ff42c-b6ae-44a7-fd94-2c2aed7d86d0"
      },
      "execution_count": null,
      "outputs": [
        {
          "output_type": "stream",
          "name": "stdout",
          "text": [
            "+---------+\n",
            "|count(ID)|\n",
            "+---------+\n",
            "|     1132|\n",
            "+---------+\n",
            "\n"
          ]
        }
      ]
    },
    {
      "cell_type": "code",
      "source": [
        "##ESTA CONSULTA CONSISTE EM CONTAR A QUANTIDADE DE PESSOAS DA TABELA\n",
        "spark.sql(\"Select COUNT (marketing.ID) FROM marketing\").show()"
      ],
      "metadata": {
        "colab": {
          "base_uri": "https://localhost:8080/"
        },
        "id": "fGkYEc3Q1siZ",
        "outputId": "ccb446a8-2dc0-4872-aee0-2b13b8a26afe"
      },
      "execution_count": null,
      "outputs": [
        {
          "output_type": "stream",
          "name": "stdout",
          "text": [
            "+---------+\n",
            "|count(ID)|\n",
            "+---------+\n",
            "|     2240|\n",
            "+---------+\n",
            "\n"
          ]
        }
      ]
    },
    {
      "cell_type": "markdown",
      "source": [
        "###A CONCLUSÃO ACIMA É QUE CERCA DE 50,6% DO PÚBLICO DA PESQUISA POSSUI O SALÁRIO INFERIOR À MEDIA DE $ 52247,25 ANUAIS."
      ],
      "metadata": {
        "id": "M16tOa5d18BH"
      }
    },
    {
      "cell_type": "code",
      "source": [
        "#ESTA CONSULTA BUSCA ENCONTRAR A MEDIA DAS RENDAS COM PESSOAS EM NIVEL PHD DE FORMACAO\n",
        "spark.sql(\"SELECT AVG(Renda) FROM marketing WHERE Educacao = 'PhD' \").show()"
      ],
      "metadata": {
        "colab": {
          "base_uri": "https://localhost:8080/"
        },
        "id": "Oh5bSlOV22L2",
        "outputId": "ec333ae7-818f-47fe-9b65-2e3be86fd343"
      },
      "execution_count": null,
      "outputs": [
        {
          "output_type": "stream",
          "name": "stdout",
          "text": [
            "+----------------+\n",
            "|      avg(Renda)|\n",
            "+----------------+\n",
            "|56105.2103909465|\n",
            "+----------------+\n",
            "\n"
          ]
        }
      ]
    },
    {
      "cell_type": "code",
      "source": [
        "#ESTA CONSULTA BUSCA ENCONTRAR A MEDIA DAS RENDAS COM PESSOAS EM NIVEL DE SUPERIOR COMPLETO\n",
        "spark.sql(\"SELECT AVG(Renda) FROM marketing WHERE Educacao = 'Graduado' \").show()"
      ],
      "metadata": {
        "colab": {
          "base_uri": "https://localhost:8080/"
        },
        "id": "DmfjC23l3j2m",
        "outputId": "93c34dff-15b5-4b35-c14c-7b18c52b5b33"
      },
      "execution_count": null,
      "outputs": [
        {
          "output_type": "stream",
          "name": "stdout",
          "text": [
            "+----------------+\n",
            "|      avg(Renda)|\n",
            "+----------------+\n",
            "|52715.7557675244|\n",
            "+----------------+\n",
            "\n"
          ]
        }
      ]
    },
    {
      "cell_type": "code",
      "source": [
        "#ESTA CONSULTA BUSCA ENCONTRAR A MEDIA DAS RENDAS COM PESSOAS EM NIVEL BASICO DE FORMACAO\n",
        "spark.sql(\"SELECT AVG(Renda) FROM marketing WHERE Educacao = 'Basico' \").show()"
      ],
      "metadata": {
        "colab": {
          "base_uri": "https://localhost:8080/"
        },
        "id": "_oYRKUku3q6j",
        "outputId": "d2660d21-fdf2-4b9d-c81f-59de0a9ab04d"
      },
      "execution_count": null,
      "outputs": [
        {
          "output_type": "stream",
          "name": "stdout",
          "text": [
            "+-----------------+\n",
            "|       avg(Renda)|\n",
            "+-----------------+\n",
            "|20306.25925925926|\n",
            "+-----------------+\n",
            "\n"
          ]
        }
      ]
    },
    {
      "cell_type": "markdown",
      "source": [
        "###DE ACORDO COM OS DADOS COLETADOS COM UMA AMOSTRA DE 2200 PESSOAS, A MÉDIA SALARIAL DE UM PHD EM RELAÇÃO A UM INDIVIDUO COM ENSINO BASICO CHEGA A AUMENTAR EM TORNO DE 176%, ISTO É, EM APROXIMADAMENTE $ 35798 A MAIS ANUAIS."
      ],
      "metadata": {
        "id": "IROQ5aSa4DJX"
      }
    },
    {
      "cell_type": "code",
      "source": [
        "#ESTA CONSULTA BUSCA ENCONTRAR A MEDIA DOS GASTOS EM ALIMENTACAO SE NA RESIDENCIA NAO HOUVEREM CRIANCAS E ADOLESCENTES\n",
        "spark.sql(\"SELECT AVG(Gasto_Alimentos) FROM marketing WHERE Criancas_Casa & Adolesc_Casa = 0; \").show()"
      ],
      "metadata": {
        "colab": {
          "base_uri": "https://localhost:8080/"
        },
        "id": "2T9RdAGQ8VOd",
        "outputId": "fc685731-a67e-46e0-a18a-a0d527a01eb3"
      },
      "execution_count": null,
      "outputs": [
        {
          "output_type": "stream",
          "name": "stdout",
          "text": [
            "+--------------------+\n",
            "|avg(Gasto_Alimentos)|\n",
            "+--------------------+\n",
            "|   635.8006430868168|\n",
            "+--------------------+\n",
            "\n"
          ]
        }
      ]
    },
    {
      "cell_type": "code",
      "source": [
        "#ESTA CONSULTA BUSCA ENCONTRAR A MEDIA DOS GASTOS EM ALIMENTACAO SE NA RESIDENCIA HOUVEREM CRIANCAS OU ADOLESCENTES\n",
        "spark.sql(\"SELECT AVG(Gasto_Alimentos) FROM marketing WHERE Criancas_Casa | Adolesc_Casa != 0; \").show()"
      ],
      "metadata": {
        "colab": {
          "base_uri": "https://localhost:8080/"
        },
        "id": "sf_C0Co7BPpL",
        "outputId": "90e0d762-e81c-4c21-a6d2-53962cf1f3c6"
      },
      "execution_count": null,
      "outputs": [
        {
          "output_type": "stream",
          "name": "stdout",
          "text": [
            "+--------------------+\n",
            "|avg(Gasto_Alimentos)|\n",
            "+--------------------+\n",
            "|   370.5736579275905|\n",
            "+--------------------+\n",
            "\n"
          ]
        }
      ]
    },
    {
      "cell_type": "markdown",
      "source": [
        "###A média de gasto com alimentos em casas com crianças ou adolescentes são menores. Com base nos dados, não se tem a informação se as casas que não possuem crianças possuem mais adultos ou não, porém, infere-se que sim, já que adultos tendem a consumir mais alimentos que crianças."
      ],
      "metadata": {
        "id": "L61YoVT2H7Sv"
      }
    },
    {
      "cell_type": "code",
      "source": [
        "df_up = dfs.toPandas()"
      ],
      "metadata": {
        "id": "gCdqL02gL8gu"
      },
      "execution_count": null,
      "outputs": []
    },
    {
      "cell_type": "code",
      "source": [
        "df_up.to_csv('dataset_limpo.csv')"
      ],
      "metadata": {
        "id": "M5DFXZVyMZuw"
      },
      "execution_count": null,
      "outputs": []
    }
  ]
}